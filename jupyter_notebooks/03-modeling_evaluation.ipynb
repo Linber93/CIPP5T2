{
 "metadata": {
  "language_info": {
   "codemirror_mode": {
    "name": "ipython",
    "version": 3
   },
   "file_extension": ".py",
   "mimetype": "text/x-python",
   "name": "python",
   "nbconvert_exporter": "python",
   "pygments_lexer": "ipython3",
   "version": "3.10.6-final"
  },
  "orig_nbformat": 2,
  "kernelspec": {
   "name": "python_defaultSpec_1681478454485",
   "display_name": "Python 3.10.6 64-bit"
  }
 },
 "nbformat": 4,
 "nbformat_minor": 2,
 "cells": [
  {
   "source": [
    "# **Modeling and evaluation**"
   ],
   "cell_type": "markdown",
   "metadata": {}
  },
  {
   "source": [
    "## Objectives\n",
    "\n",
    "* Fulfill business requirement 2: The client is interested in predicting if a cherry leaf is healthy or contains powdery mildew.\n",
    "\n",
    "## Inputs\n",
    "\n",
    "* inputs/datasets/cherry-leaves/cherry-leaves/train\n",
    "* inputs/datasets/cherry-leaves/cherry-leaves/test\n",
    "* inputs/datasets/cherry-leaves/cherry-leaves/validation\n",
    "* image shape embeddings.\n",
    "\n",
    "## Outputs\n",
    "\n",
    "* Images distribution plot in train, validation, and test set.\n",
    "* Image augmentation.\n",
    "* Class indices to change prediction inference in labels.\n",
    "* Machine learning model creation and training.\n",
    "* Save model.\n",
    "* Learning curve plot for model performance.\n",
    "* Model evaluation on pickle file.\n",
    "* Prediction on the random image file.\n",
    "\n",
    "\n",
    "\n",
    "## Additional Comments\n",
    "\n",
    "* No additional comments\n"
   ],
   "cell_type": "markdown",
   "metadata": {}
  },
  {
   "source": [
    "---"
   ],
   "cell_type": "markdown",
   "metadata": {}
  },
  {
   "source": [
    "# Set working directory"
   ],
   "cell_type": "markdown",
   "metadata": {}
  },
  {
   "cell_type": "code",
   "execution_count": 5,
   "metadata": {},
   "outputs": [
    {
     "output_type": "execute_result",
     "data": {
      "text/plain": "'/workspaces/CIPP5T2/jupyter_notebooks'"
     },
     "metadata": {},
     "execution_count": 5
    }
   ],
   "source": [
    "import os\n",
    "current_dir = os.getcwd()\n",
    "current_dir"
   ]
  },
  {
   "source": [
    "\n",
    "\n",
    "We want to make the parent of the current directory the new current directory\n",
    "\n",
    "* os.path.dirname() gets the parent directory\n",
    "* os.chir() defines the new current directory"
   ],
   "cell_type": "markdown",
   "metadata": {}
  },
  {
   "cell_type": "code",
   "execution_count": 6,
   "metadata": {
    "tags": []
   },
   "outputs": [
    {
     "output_type": "stream",
     "name": "stdout",
     "text": "You set a new current directory\n"
    }
   ],
   "source": [
    "os.chdir(os.path.dirname(current_dir))\n",
    "print(\"You set a new current directory\")"
   ]
  },
  {
   "source": [
    "Confirm the new current directory"
   ],
   "cell_type": "markdown",
   "metadata": {}
  },
  {
   "cell_type": "code",
   "execution_count": 7,
   "metadata": {},
   "outputs": [
    {
     "output_type": "execute_result",
     "data": {
      "text/plain": "'/workspaces/CIPP5T2'"
     },
     "metadata": {},
     "execution_count": 7
    }
   ],
   "source": [
    "work_dir = os.getcwd()\n",
    "work_dir"
   ]
  },
  {
   "cell_type": "code",
   "execution_count": null,
   "metadata": {},
   "outputs": [],
   "source": []
  }
 ]
}